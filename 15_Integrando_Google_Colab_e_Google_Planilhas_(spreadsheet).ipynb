{
  "nbformat": 4,
  "nbformat_minor": 0,
  "metadata": {
    "colab": {
      "name": "15 - Integrando Google Colab e Google Planilhas (spreadsheet).ipynb",
      "provenance": [],
      "include_colab_link": true
    },
    "kernelspec": {
      "name": "python3",
      "display_name": "Python 3"
    }
  },
  "cells": [
    {
      "cell_type": "markdown",
      "metadata": {
        "id": "view-in-github",
        "colab_type": "text"
      },
      "source": [
        "<a href=\"https://colab.research.google.com/github/rouxinol/python_para_investimentos/blob/master/15_Integrando_Google_Colab_e_Google_Planilhas_(spreadsheet).ipynb\" target=\"_parent\"><img src=\"https://colab.research.google.com/assets/colab-badge.svg\" alt=\"Open In Colab\"/></a>"
      ]
    },
    {
      "cell_type": "markdown",
      "metadata": {
        "id": "jAFCrMR4lhOk"
      },
      "source": [
        "#Ricos pelo Acaso\n",
        "* Link para o vídeo: https://youtu.be/HlhbsrJ4_PQ"
      ]
    },
    {
      "cell_type": "markdown",
      "metadata": {
        "id": "xdIDjdI1Uq5Y"
      },
      "source": [
        ">Instalando `gspread`"
      ]
    },
    {
      "cell_type": "code",
      "metadata": {
        "id": "8f78dBjnA3Y-",
        "colab": {
          "base_uri": "https://localhost:8080/"
        },
        "outputId": "842b3ba0-0353-4f9d-8009-08210a8054de"
      },
      "source": [
        "!pip install gspread"
      ],
      "execution_count": 1,
      "outputs": [
        {
          "output_type": "stream",
          "text": [
            "Requirement already satisfied: gspread in /usr/local/lib/python3.6/dist-packages (3.0.1)\n",
            "Requirement already satisfied: requests>=2.2.1 in /usr/local/lib/python3.6/dist-packages (from gspread) (2.23.0)\n",
            "Requirement already satisfied: certifi>=2017.4.17 in /usr/local/lib/python3.6/dist-packages (from requests>=2.2.1->gspread) (2020.12.5)\n",
            "Requirement already satisfied: urllib3!=1.25.0,!=1.25.1,<1.26,>=1.21.1 in /usr/local/lib/python3.6/dist-packages (from requests>=2.2.1->gspread) (1.24.3)\n",
            "Requirement already satisfied: chardet<4,>=3.0.2 in /usr/local/lib/python3.6/dist-packages (from requests>=2.2.1->gspread) (3.0.4)\n",
            "Requirement already satisfied: idna<3,>=2.5 in /usr/local/lib/python3.6/dist-packages (from requests>=2.2.1->gspread) (2.10)\n"
          ],
          "name": "stdout"
        }
      ]
    },
    {
      "cell_type": "markdown",
      "metadata": {
        "id": "40vthssCUv1X"
      },
      "source": [
        ">Importando as Bibliotecas"
      ]
    },
    {
      "cell_type": "code",
      "metadata": {
        "id": "VgLSPFycA9SJ"
      },
      "source": [
        "from google.colab import auth\n",
        "import gspread\n",
        "from oauth2client.client import GoogleCredentials"
      ],
      "execution_count": 2,
      "outputs": []
    },
    {
      "cell_type": "markdown",
      "metadata": {
        "id": "R2du4Rvuxq4h"
      },
      "source": [
        ">Realizando a Autenticação"
      ]
    },
    {
      "cell_type": "code",
      "metadata": {
        "id": "bJGFIHvJxcfo"
      },
      "source": [
        "auth.authenticate_user()\n",
        "gc = gspread.authorize(GoogleCredentials.get_application_default())"
      ],
      "execution_count": 3,
      "outputs": []
    },
    {
      "cell_type": "markdown",
      "metadata": {
        "id": "SBpuhBm9U8cg"
      },
      "source": [
        ">Criando uma planilha vazia"
      ]
    },
    {
      "cell_type": "code",
      "metadata": {
        "id": "PpVsOifeBB0m",
        "colab": {
          "base_uri": "https://localhost:8080/"
        },
        "outputId": "abb1f88d-a96b-435e-ec12-872efae6b2b7"
      },
      "source": [
        "gc.create('Planilha01')"
      ],
      "execution_count": 6,
      "outputs": [
        {
          "output_type": "execute_result",
          "data": {
            "text/plain": [
              "<Spreadsheet 'Planilha01' id:116bcF_T7tXdDZncH5ro-retKg7wZWHtvA0wLdrL6TT8>"
            ]
          },
          "metadata": {
            "tags": []
          },
          "execution_count": 6
        }
      ]
    },
    {
      "cell_type": "markdown",
      "metadata": {
        "id": "PLGoqsjliO8P"
      },
      "source": [
        ">Abrindo uma Planilha"
      ]
    },
    {
      "cell_type": "code",
      "metadata": {
        "id": "WCxNYLZCiPBv"
      },
      "source": [
        "planilha = gc.open('Planilha01')"
      ],
      "execution_count": 7,
      "outputs": []
    },
    {
      "cell_type": "markdown",
      "metadata": {
        "id": "4qHcboXCVZ_j"
      },
      "source": [
        ">Adicionando uma nova Página\n",
        "\n"
      ]
    },
    {
      "cell_type": "code",
      "metadata": {
        "id": "gSLxsA5sVfuR",
        "colab": {
          "base_uri": "https://localhost:8080/"
        },
        "outputId": "87a9895c-455d-4ae9-adf3-1cca41128fba"
      },
      "source": [
        "planilha.add_worksheet('nova_pagina', 10, 5)"
      ],
      "execution_count": 8,
      "outputs": [
        {
          "output_type": "execute_result",
          "data": {
            "text/plain": [
              "<Worksheet 'nova_pagina' id:1856923520>"
            ]
          },
          "metadata": {
            "tags": []
          },
          "execution_count": 8
        }
      ]
    },
    {
      "cell_type": "markdown",
      "metadata": {
        "id": "UtRICcfNaMOq"
      },
      "source": [
        ">Selecionando uma Página"
      ]
    },
    {
      "cell_type": "code",
      "metadata": {
        "id": "dGhngLzmhJO1"
      },
      "source": [
        "pagina1 = planilha.get_worksheet(0)"
      ],
      "execution_count": 9,
      "outputs": []
    },
    {
      "cell_type": "markdown",
      "metadata": {
        "id": "hkWy8KOCi4py"
      },
      "source": [
        ">Apagando uma Página"
      ]
    },
    {
      "cell_type": "code",
      "metadata": {
        "id": "6HvqjzJghZZH",
        "colab": {
          "base_uri": "https://localhost:8080/"
        },
        "outputId": "8713a448-93e3-4c49-c198-0d32d09adf6d"
      },
      "source": [
        "planilha.del_worksheet(pagina1)"
      ],
      "execution_count": 10,
      "outputs": [
        {
          "output_type": "execute_result",
          "data": {
            "text/plain": [
              "{'replies': [{}],\n",
              " 'spreadsheetId': '116bcF_T7tXdDZncH5ro-retKg7wZWHtvA0wLdrL6TT8'}"
            ]
          },
          "metadata": {
            "tags": []
          },
          "execution_count": 10
        }
      ]
    },
    {
      "cell_type": "markdown",
      "metadata": {
        "id": "4-B4RpqpaOu5"
      },
      "source": [
        ">Alterando os valores das células"
      ]
    },
    {
      "cell_type": "markdown",
      "metadata": {
        "id": "TkU-D5Zhkle4"
      },
      "source": [
        ">>1º passo: selecionar a página"
      ]
    },
    {
      "cell_type": "code",
      "metadata": {
        "id": "BMNOIhJKjIQL"
      },
      "source": [
        "nova_pagina = planilha.get_worksheet(0)"
      ],
      "execution_count": 11,
      "outputs": []
    },
    {
      "cell_type": "markdown",
      "metadata": {
        "id": "Xx7MhtXaktQp"
      },
      "source": [
        ">>`update_acell()`: pelo código da célula"
      ]
    },
    {
      "cell_type": "code",
      "metadata": {
        "id": "9w9LPmdRZtuQ",
        "colab": {
          "base_uri": "https://localhost:8080/"
        },
        "outputId": "b4712375-62ae-4ee2-c7a4-53b5a4212f48"
      },
      "source": [
        "nova_pagina.update_acell('a1', 120)"
      ],
      "execution_count": 12,
      "outputs": [
        {
          "output_type": "execute_result",
          "data": {
            "text/plain": [
              "{'spreadsheetId': '116bcF_T7tXdDZncH5ro-retKg7wZWHtvA0wLdrL6TT8',\n",
              " 'updatedCells': 1,\n",
              " 'updatedColumns': 1,\n",
              " 'updatedRange': 'nova_pagina!A1',\n",
              " 'updatedRows': 1}"
            ]
          },
          "metadata": {
            "tags": []
          },
          "execution_count": 12
        }
      ]
    },
    {
      "cell_type": "markdown",
      "metadata": {
        "id": "Fr1mLethlDIF"
      },
      "source": [
        ">>`update_cell`: pelos números da linha e coluna"
      ]
    },
    {
      "cell_type": "code",
      "metadata": {
        "id": "1eU9gm3qZtya",
        "colab": {
          "base_uri": "https://localhost:8080/"
        },
        "outputId": "e333d1cd-4add-4c24-80bd-72cc7d388047"
      },
      "source": [
        "nova_pagina.update_cell(2,2, 'qualquer texto')"
      ],
      "execution_count": 13,
      "outputs": [
        {
          "output_type": "execute_result",
          "data": {
            "text/plain": [
              "{'spreadsheetId': '116bcF_T7tXdDZncH5ro-retKg7wZWHtvA0wLdrL6TT8',\n",
              " 'updatedCells': 1,\n",
              " 'updatedColumns': 1,\n",
              " 'updatedRange': 'nova_pagina!B2',\n",
              " 'updatedRows': 1}"
            ]
          },
          "metadata": {
            "tags": []
          },
          "execution_count": 13
        }
      ]
    },
    {
      "cell_type": "markdown",
      "metadata": {
        "id": "tldCxUqWlQBc"
      },
      "source": [
        ">>`update_cells()`: por uma lista de valores"
      ]
    },
    {
      "cell_type": "code",
      "metadata": {
        "id": "ME3vC5O8bgR9",
        "colab": {
          "base_uri": "https://localhost:8080/"
        },
        "outputId": "6a29fbad-c1f0-4bad-b8b5-d611808c83e4"
      },
      "source": [
        "lista_cel = nova_pagina.range('a1:b2')\n",
        "lista_cel"
      ],
      "execution_count": 14,
      "outputs": [
        {
          "output_type": "execute_result",
          "data": {
            "text/plain": [
              "[<Cell R1C1 '120'>,\n",
              " <Cell R1C2 ''>,\n",
              " <Cell R2C1 ''>,\n",
              " <Cell R2C2 'qualquer texto'>]"
            ]
          },
          "metadata": {
            "tags": []
          },
          "execution_count": 14
        }
      ]
    },
    {
      "cell_type": "code",
      "metadata": {
        "id": "fDF-oFOznejR",
        "colab": {
          "base_uri": "https://localhost:8080/"
        },
        "outputId": "ed042591-d9d5-40a8-8235-efb519ac3c05"
      },
      "source": [
        "valores = ['a','b','c','d']\n",
        "\n",
        "for i, valor in enumerate(valores):\n",
        "  lista_cel[i].value = valor\n",
        "\n",
        "lista_cel"
      ],
      "execution_count": 15,
      "outputs": [
        {
          "output_type": "execute_result",
          "data": {
            "text/plain": [
              "[<Cell R1C1 'a'>, <Cell R1C2 'b'>, <Cell R2C1 'c'>, <Cell R2C2 'd'>]"
            ]
          },
          "metadata": {
            "tags": []
          },
          "execution_count": 15
        }
      ]
    },
    {
      "cell_type": "code",
      "metadata": {
        "id": "litmy4_xnGKx",
        "colab": {
          "base_uri": "https://localhost:8080/"
        },
        "outputId": "93e8fc8c-4c3e-4ede-f5d9-0a72d72be74c"
      },
      "source": [
        "nova_pagina.update_cells(lista_cel)"
      ],
      "execution_count": 16,
      "outputs": [
        {
          "output_type": "execute_result",
          "data": {
            "text/plain": [
              "{'spreadsheetId': '116bcF_T7tXdDZncH5ro-retKg7wZWHtvA0wLdrL6TT8',\n",
              " 'updatedCells': 4,\n",
              " 'updatedColumns': 2,\n",
              " 'updatedRange': 'nova_pagina!A1:B2',\n",
              " 'updatedRows': 2}"
            ]
          },
          "metadata": {
            "tags": []
          },
          "execution_count": 16
        }
      ]
    },
    {
      "cell_type": "code",
      "metadata": {
        "id": "_CqDZr8LAj-3"
      },
      "source": [
        ""
      ],
      "execution_count": 16,
      "outputs": []
    },
    {
      "cell_type": "markdown",
      "metadata": {
        "id": "gcVRSFNPmnTB"
      },
      "source": [
        "###Carteira de Ações"
      ]
    },
    {
      "cell_type": "code",
      "metadata": {
        "id": "X7uTTvK2ocva"
      },
      "source": [
        "plan_carteira = gc.open('Carteira')"
      ],
      "execution_count": 22,
      "outputs": []
    },
    {
      "cell_type": "markdown",
      "metadata": {
        "id": "4qjPfpRDmyxv"
      },
      "source": [
        ">Criando um DataFrame Pandas com uma planilha do Google Planilhas"
      ]
    },
    {
      "cell_type": "code",
      "metadata": {
        "id": "ooDFcrDbm2Dd"
      },
      "source": [
        "import pandas as pd"
      ],
      "execution_count": 23,
      "outputs": []
    },
    {
      "cell_type": "code",
      "metadata": {
        "id": "h5nZXPFRnfzp",
        "colab": {
          "base_uri": "https://localhost:8080/",
          "height": 297
        },
        "outputId": "7fc05393-3ae7-4838-9bbc-297962677059"
      },
      "source": [
        "carteira = pd.DataFrame(plan_carteira.sheet1.get_all_records())\n",
        "carteira.set_index('Cod', inplace=True)\n",
        "\n",
        "carteira"
      ],
      "execution_count": 24,
      "outputs": [
        {
          "output_type": "execute_result",
          "data": {
            "text/html": [
              "<div>\n",
              "<style scoped>\n",
              "    .dataframe tbody tr th:only-of-type {\n",
              "        vertical-align: middle;\n",
              "    }\n",
              "\n",
              "    .dataframe tbody tr th {\n",
              "        vertical-align: top;\n",
              "    }\n",
              "\n",
              "    .dataframe thead th {\n",
              "        text-align: right;\n",
              "    }\n",
              "</style>\n",
              "<table border=\"1\" class=\"dataframe\">\n",
              "  <thead>\n",
              "    <tr style=\"text-align: right;\">\n",
              "      <th></th>\n",
              "      <th>Qte</th>\n",
              "      <th>Cotação</th>\n",
              "      <th>Entrada</th>\n",
              "      <th>Custo</th>\n",
              "      <th>No dia</th>\n",
              "      <th>Preco Atual</th>\n",
              "      <th>Lucro</th>\n",
              "      <th>Lucro %</th>\n",
              "    </tr>\n",
              "    <tr>\n",
              "      <th>Cod</th>\n",
              "      <th></th>\n",
              "      <th></th>\n",
              "      <th></th>\n",
              "      <th></th>\n",
              "      <th></th>\n",
              "      <th></th>\n",
              "      <th></th>\n",
              "      <th></th>\n",
              "    </tr>\n",
              "  </thead>\n",
              "  <tbody>\n",
              "    <tr>\n",
              "      <th>ITSA4</th>\n",
              "      <td>200</td>\n",
              "      <td>10.60</td>\n",
              "      <td>9</td>\n",
              "      <td>1800</td>\n",
              "      <td>0</td>\n",
              "      <td>2120</td>\n",
              "      <td>-320</td>\n",
              "      <td>84.91%</td>\n",
              "    </tr>\n",
              "    <tr>\n",
              "      <th>BRCR11</th>\n",
              "      <td>200</td>\n",
              "      <td>88.00</td>\n",
              "      <td>90</td>\n",
              "      <td>18000</td>\n",
              "      <td>0</td>\n",
              "      <td>17600</td>\n",
              "      <td>400</td>\n",
              "      <td>102.27%</td>\n",
              "    </tr>\n",
              "    <tr>\n",
              "      <th>KNRI11</th>\n",
              "      <td>200</td>\n",
              "      <td>159.89</td>\n",
              "      <td>130</td>\n",
              "      <td>26000</td>\n",
              "      <td>0</td>\n",
              "      <td>31978</td>\n",
              "      <td>-5978</td>\n",
              "      <td>81.31%</td>\n",
              "    </tr>\n",
              "    <tr>\n",
              "      <th>BCFF11</th>\n",
              "      <td>200</td>\n",
              "      <td>92.32</td>\n",
              "      <td>89</td>\n",
              "      <td>17800</td>\n",
              "      <td>0</td>\n",
              "      <td>18464</td>\n",
              "      <td>-664</td>\n",
              "      <td>96.40%</td>\n",
              "    </tr>\n",
              "    <tr>\n",
              "      <th>EGIE3</th>\n",
              "      <td>200</td>\n",
              "      <td>45.90</td>\n",
              "      <td>40</td>\n",
              "      <td>8000</td>\n",
              "      <td>0</td>\n",
              "      <td>9180</td>\n",
              "      <td>-1180</td>\n",
              "      <td>87.15%</td>\n",
              "    </tr>\n",
              "    <tr>\n",
              "      <th>TAEE11</th>\n",
              "      <td>200</td>\n",
              "      <td>32.59</td>\n",
              "      <td>12</td>\n",
              "      <td>2400</td>\n",
              "      <td>0</td>\n",
              "      <td>6518</td>\n",
              "      <td>-4118</td>\n",
              "      <td>36.82%</td>\n",
              "    </tr>\n",
              "    <tr>\n",
              "      <th>TIET11</th>\n",
              "      <td>200</td>\n",
              "      <td>16.48</td>\n",
              "      <td>11</td>\n",
              "      <td>2200</td>\n",
              "      <td>0</td>\n",
              "      <td>3296</td>\n",
              "      <td>-1096</td>\n",
              "      <td>66.75%</td>\n",
              "    </tr>\n",
              "  </tbody>\n",
              "</table>\n",
              "</div>"
            ],
            "text/plain": [
              "        Qte  Cotação  Entrada  Custo  No dia  Preco Atual  Lucro  Lucro %\n",
              "Cod                                                                      \n",
              "ITSA4   200    10.60        9   1800       0         2120   -320   84.91%\n",
              "BRCR11  200    88.00       90  18000       0        17600    400  102.27%\n",
              "KNRI11  200   159.89      130  26000       0        31978  -5978   81.31%\n",
              "BCFF11  200    92.32       89  17800       0        18464   -664   96.40%\n",
              "EGIE3   200    45.90       40   8000       0         9180  -1180   87.15%\n",
              "TAEE11  200    32.59       12   2400       0         6518  -4118   36.82%\n",
              "TIET11  200    16.48       11   2200       0         3296  -1096   66.75%"
            ]
          },
          "metadata": {
            "tags": []
          },
          "execution_count": 24
        }
      ]
    },
    {
      "cell_type": "markdown",
      "metadata": {
        "id": "lcysVrODm3L1"
      },
      "source": [
        "###Salvando cotações do Yahoo Finance"
      ]
    },
    {
      "cell_type": "markdown",
      "metadata": {
        "id": "PXXkHBJDnBn1"
      },
      "source": [
        ">Adicionando uma página à planilha"
      ]
    },
    {
      "cell_type": "code",
      "metadata": {
        "id": "VOwbyK4EnK0R",
        "colab": {
          "base_uri": "https://localhost:8080/"
        },
        "outputId": "86fd6949-bea8-45a7-a967-f3356f5953be"
      },
      "source": [
        "plan_carteira.add_worksheet('Cotações Yahoo', 1500, 71)"
      ],
      "execution_count": 25,
      "outputs": [
        {
          "output_type": "execute_result",
          "data": {
            "text/plain": [
              "<Worksheet 'Cotações Yahoo' id:1881716935>"
            ]
          },
          "metadata": {
            "tags": []
          },
          "execution_count": 25
        }
      ]
    },
    {
      "cell_type": "markdown",
      "metadata": {
        "id": "sv_-LjLynLqn"
      },
      "source": [
        ">Instalando o YFinance"
      ]
    },
    {
      "cell_type": "code",
      "metadata": {
        "id": "Ma4LCm2cnRIk",
        "colab": {
          "base_uri": "https://localhost:8080/"
        },
        "outputId": "feea716d-90bc-4a5d-f686-2fb70b8b144c"
      },
      "source": [
        "!pip install yfinance"
      ],
      "execution_count": 26,
      "outputs": [
        {
          "output_type": "stream",
          "text": [
            "Collecting yfinance\n",
            "  Downloading https://files.pythonhosted.org/packages/7a/e8/b9d7104d3a4bf39924799067592d9e59119fcfc900a425a12e80a3123ec8/yfinance-0.1.55.tar.gz\n",
            "Requirement already satisfied: pandas>=0.24 in /usr/local/lib/python3.6/dist-packages (from yfinance) (1.1.5)\n",
            "Requirement already satisfied: numpy>=1.15 in /usr/local/lib/python3.6/dist-packages (from yfinance) (1.19.5)\n",
            "Requirement already satisfied: requests>=2.20 in /usr/local/lib/python3.6/dist-packages (from yfinance) (2.23.0)\n",
            "Requirement already satisfied: multitasking>=0.0.7 in /usr/local/lib/python3.6/dist-packages (from yfinance) (0.0.9)\n",
            "Collecting lxml>=4.5.1\n",
            "\u001b[?25l  Downloading https://files.pythonhosted.org/packages/bd/78/56a7c88a57d0d14945472535d0df9fb4bbad7d34ede658ec7961635c790e/lxml-4.6.2-cp36-cp36m-manylinux1_x86_64.whl (5.5MB)\n",
            "\u001b[K     |████████████████████████████████| 5.5MB 6.3MB/s \n",
            "\u001b[?25hRequirement already satisfied: python-dateutil>=2.7.3 in /usr/local/lib/python3.6/dist-packages (from pandas>=0.24->yfinance) (2.8.1)\n",
            "Requirement already satisfied: pytz>=2017.2 in /usr/local/lib/python3.6/dist-packages (from pandas>=0.24->yfinance) (2018.9)\n",
            "Requirement already satisfied: urllib3!=1.25.0,!=1.25.1,<1.26,>=1.21.1 in /usr/local/lib/python3.6/dist-packages (from requests>=2.20->yfinance) (1.24.3)\n",
            "Requirement already satisfied: chardet<4,>=3.0.2 in /usr/local/lib/python3.6/dist-packages (from requests>=2.20->yfinance) (3.0.4)\n",
            "Requirement already satisfied: idna<3,>=2.5 in /usr/local/lib/python3.6/dist-packages (from requests>=2.20->yfinance) (2.10)\n",
            "Requirement already satisfied: certifi>=2017.4.17 in /usr/local/lib/python3.6/dist-packages (from requests>=2.20->yfinance) (2020.12.5)\n",
            "Requirement already satisfied: six>=1.5 in /usr/local/lib/python3.6/dist-packages (from python-dateutil>=2.7.3->pandas>=0.24->yfinance) (1.15.0)\n",
            "Building wheels for collected packages: yfinance\n",
            "  Building wheel for yfinance (setup.py) ... \u001b[?25l\u001b[?25hdone\n",
            "  Created wheel for yfinance: filename=yfinance-0.1.55-py2.py3-none-any.whl size=22616 sha256=f6947d9e768f44c6a4d3bcf0a12d8a498ff234880c3b98a8aae3ac3e2c297566\n",
            "  Stored in directory: /root/.cache/pip/wheels/04/98/cc/2702a4242d60bdc14f48b4557c427ded1fe92aedf257d4565c\n",
            "Successfully built yfinance\n",
            "Installing collected packages: lxml, yfinance\n",
            "  Found existing installation: lxml 4.2.6\n",
            "    Uninstalling lxml-4.2.6:\n",
            "      Successfully uninstalled lxml-4.2.6\n",
            "Successfully installed lxml-4.6.2 yfinance-0.1.55\n"
          ],
          "name": "stdout"
        }
      ]
    },
    {
      "cell_type": "code",
      "metadata": {
        "id": "YRs4eN89nlSc"
      },
      "source": [
        "import yfinance as yf"
      ],
      "execution_count": 27,
      "outputs": []
    },
    {
      "cell_type": "code",
      "metadata": {
        "id": "syEMASfNnlZl"
      },
      "source": [
        "tickers_ibov = \"ABEV3.SA AZUL4.SA B3SA3.SA BBAS3.SA BBDC4.SA BBSE3.SA BPAC11.SA BRAP4.SA BRDT3.SA BRFS3.SA BRKM5.SA BRML3.SA BTOW3.SA CCRO3.SA CIEL3.SA CMIG4.SA COGN3.SA CRFB3.SA CSAN3.SA CSNA3.SA CVCB3.SA CYRE3.SA ECOR3.SA EGIE3.SA ELET6.SA EMBR3.SA ENBR3.SA EQTL3.SA FLRY3.SA GGBR4.SA GNDI3.SA GOAU4.SA GOLL4.SA HAPV3.SA HGTX3.SA HYPE3.SA IGTA3.SA IRBR3.SA ITSA4.SA ITUB4.SA JBSS3.SA KLBN11.SA LAME4.SA LREN3.SA MGLU3.SA MRFG3.SA MRVE3.SA MULT3.SA NTCO3.SA PCAR4.SA PETR4.SA QUAL3.SA RADL3.SA RAIL3.SA RENT3.SA SANB11.SA SBSP3.SA SMLS3.SA SULA11.SA SUZB3.SA TAEE11.SA TIMP3.SA TOTS3.SA UGPA3.SA USIM5.SA VALE3.SA VIVT4.SA VVAR3.SA WEGE3.SA YDUQ3.SA\""
      ],
      "execution_count": 28,
      "outputs": []
    },
    {
      "cell_type": "code",
      "metadata": {
        "id": "7QI6aIV1nlfc",
        "colab": {
          "base_uri": "https://localhost:8080/"
        },
        "outputId": "6d16c7be-62a6-43fd-e3a2-a677ad5127a1"
      },
      "source": [
        "dados_yf = yf.download(tickers=tickers_ibov, period='5y')[\"Adj Close\"]"
      ],
      "execution_count": 29,
      "outputs": [
        {
          "output_type": "stream",
          "text": [
            "[*********************100%***********************]  70 of 70 completed\n",
            "\n",
            "3 Failed downloads:\n",
            "- PCAR4.SA: No data found, symbol may be delisted\n",
            "- VIVT4.SA: No data found, symbol may be delisted\n",
            "- TIMP3.SA: No data found, symbol may be delisted\n"
          ],
          "name": "stdout"
        }
      ]
    },
    {
      "cell_type": "markdown",
      "metadata": {
        "id": "XLHQlDRfnUXr"
      },
      "source": [
        ">Selecionando a página criada"
      ]
    },
    {
      "cell_type": "code",
      "metadata": {
        "id": "hOLsAxLaDf9S"
      },
      "source": [
        ""
      ],
      "execution_count": 29,
      "outputs": []
    },
    {
      "cell_type": "code",
      "metadata": {
        "id": "dANyQ2b1nU9F"
      },
      "source": [
        "pagina_yahoo = plan_carteira.get_worksheet(1)"
      ],
      "execution_count": 30,
      "outputs": []
    },
    {
      "cell_type": "markdown",
      "metadata": {
        "id": "fHAEMXDrnYZY"
      },
      "source": [
        ">Instalando a biblioteca `gspread-dataframe`"
      ]
    },
    {
      "cell_type": "code",
      "metadata": {
        "id": "ib8F1f_TnZEN",
        "colab": {
          "base_uri": "https://localhost:8080/"
        },
        "outputId": "67acaede-89ef-4230-813a-72f56aac818e"
      },
      "source": [
        "!pip install gspread-dataframe"
      ],
      "execution_count": 31,
      "outputs": [
        {
          "output_type": "stream",
          "text": [
            "Requirement already satisfied: gspread-dataframe in /usr/local/lib/python3.6/dist-packages (3.0.8)\n",
            "Requirement already satisfied: pandas>=0.14.0 in /usr/local/lib/python3.6/dist-packages (from gspread-dataframe) (1.1.5)\n",
            "Requirement already satisfied: gspread>=3.0.0 in /usr/local/lib/python3.6/dist-packages (from gspread-dataframe) (3.0.1)\n",
            "Requirement already satisfied: pytz>=2017.2 in /usr/local/lib/python3.6/dist-packages (from pandas>=0.14.0->gspread-dataframe) (2018.9)\n",
            "Requirement already satisfied: numpy>=1.15.4 in /usr/local/lib/python3.6/dist-packages (from pandas>=0.14.0->gspread-dataframe) (1.19.5)\n",
            "Requirement already satisfied: python-dateutil>=2.7.3 in /usr/local/lib/python3.6/dist-packages (from pandas>=0.14.0->gspread-dataframe) (2.8.1)\n",
            "Requirement already satisfied: requests>=2.2.1 in /usr/local/lib/python3.6/dist-packages (from gspread>=3.0.0->gspread-dataframe) (2.23.0)\n",
            "Requirement already satisfied: six>=1.5 in /usr/local/lib/python3.6/dist-packages (from python-dateutil>=2.7.3->pandas>=0.14.0->gspread-dataframe) (1.15.0)\n",
            "Requirement already satisfied: chardet<4,>=3.0.2 in /usr/local/lib/python3.6/dist-packages (from requests>=2.2.1->gspread>=3.0.0->gspread-dataframe) (3.0.4)\n",
            "Requirement already satisfied: urllib3!=1.25.0,!=1.25.1,<1.26,>=1.21.1 in /usr/local/lib/python3.6/dist-packages (from requests>=2.2.1->gspread>=3.0.0->gspread-dataframe) (1.24.3)\n",
            "Requirement already satisfied: idna<3,>=2.5 in /usr/local/lib/python3.6/dist-packages (from requests>=2.2.1->gspread>=3.0.0->gspread-dataframe) (2.10)\n",
            "Requirement already satisfied: certifi>=2017.4.17 in /usr/local/lib/python3.6/dist-packages (from requests>=2.2.1->gspread>=3.0.0->gspread-dataframe) (2020.12.5)\n"
          ],
          "name": "stdout"
        }
      ]
    },
    {
      "cell_type": "code",
      "metadata": {
        "id": "DV3en5p0n1QJ"
      },
      "source": [
        "from gspread_dataframe import get_as_dataframe, set_with_dataframe"
      ],
      "execution_count": 32,
      "outputs": []
    },
    {
      "cell_type": "markdown",
      "metadata": {
        "id": "UJBePoaIn2lm"
      },
      "source": [
        ">Preenchendo os dados na planilha"
      ]
    },
    {
      "cell_type": "code",
      "metadata": {
        "id": "-c0Uem6Tn4Ut"
      },
      "source": [
        "set_with_dataframe(pagina_yahoo, dados_yf, include_index=True)"
      ],
      "execution_count": 33,
      "outputs": []
    },
    {
      "cell_type": "markdown",
      "metadata": {
        "id": "5FH62gxXoANy"
      },
      "source": [
        "###Dados Fundamentalistas"
      ]
    },
    {
      "cell_type": "code",
      "metadata": {
        "id": "tfBjEIjsoD4F",
        "colab": {
          "base_uri": "https://localhost:8080/"
        },
        "outputId": "982d6644-3673-4784-ec08-8f9db87077c5"
      },
      "source": [
        "plan_carteira.add_worksheet('fundamentus', 500, 20)"
      ],
      "execution_count": 34,
      "outputs": [
        {
          "output_type": "execute_result",
          "data": {
            "text/plain": [
              "<Worksheet 'fundamentus' id:2038667549>"
            ]
          },
          "metadata": {
            "tags": []
          },
          "execution_count": 34
        }
      ]
    },
    {
      "cell_type": "code",
      "metadata": {
        "id": "yvElrUO8oFN5"
      },
      "source": [
        "pagina_fundamentus = plan_carteira.get_worksheet(2)"
      ],
      "execution_count": 35,
      "outputs": []
    },
    {
      "cell_type": "markdown",
      "metadata": {
        "id": "CFakpVvZITBJ"
      },
      "source": [
        "O Fundamentus agora responde ao pd.read_html com error 403 forbidden, por que não é um navegador A solução é usar o requests. \n",
        "import requests\n",
        "url = 'https://www.fundamentus.com.br/resultado.php'\n",
        "header = {\n",
        "  \"User-Agent\": \"Mozilla/5.0 (X11; Linux x86_64) AppleWebKit/537.36 (KHTML, like Gecko) Chrome/50.0.2661.75 Safari/537.36\",\n",
        "  \"X-Requested-With\": \"XMLHttpRequest\"\n",
        "}\n",
        "r = requests.get(url, headers=header)\n",
        "\n",
        "df = pd.read_html(r.text, decimal=',', thousands='.')[0]\n",
        "\n",
        "Na minha experiência será necessário quase sempre para web scraping , melhor tornar default acessar via requests e aplicar pandas.read_html ao request.get(######).text .\n",
        "\n",
        "Espero haver ajudado. \n",
        "Parabéns pelo excelente conteúdo."
      ]
    },
    {
      "cell_type": "code",
      "metadata": {
        "id": "mGc9yqFYoFT3"
      },
      "source": [
        "import requests\n",
        "url = 'https://www.fundamentus.com.br/resultado.php'\n",
        "header = {\n",
        "  \"User-Agent\": \"Mozilla/5.0 (X11; Linux x86_64) AppleWebKit/537.36 (KHTML, like Gecko) Chrome/50.0.2661.75 Safari/537.36\",\n",
        "  \"X-Requested-With\": \"XMLHttpRequest\"\n",
        "}\n",
        "r = requests.get(url, headers=header)\n",
        "\n",
        "df = pd.read_html(r.text, decimal=',', thousands='.')[0]"
      ],
      "execution_count": 46,
      "outputs": []
    },
    {
      "cell_type": "code",
      "metadata": {
        "id": "kYH4bxEeoFZp"
      },
      "source": [
        "# df = pd.read_html(url, decimal=',', thousands='.')"
      ],
      "execution_count": 47,
      "outputs": []
    },
    {
      "cell_type": "code",
      "metadata": {
        "id": "lJylwqARoFfM"
      },
      "source": [
        "set_with_dataframe(pagina_fundamentus, df)"
      ],
      "execution_count": 48,
      "outputs": []
    },
    {
      "cell_type": "code",
      "metadata": {
        "id": "uvKZ_il-vZF_"
      },
      "source": [
        ""
      ],
      "execution_count": null,
      "outputs": []
    }
  ]
}