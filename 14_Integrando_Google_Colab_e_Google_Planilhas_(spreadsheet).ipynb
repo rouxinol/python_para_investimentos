{
  "nbformat": 4,
  "nbformat_minor": 0,
  "metadata": {
    "colab": {
      "name": "14 - Integrando Google Colab e Google Planilhas (spreadsheet).ipynb",
      "provenance": [],
      "include_colab_link": true
    },
    "kernelspec": {
      "name": "python3",
      "display_name": "Python 3"
    }
  },
  "cells": [
    {
      "cell_type": "markdown",
      "metadata": {
        "id": "view-in-github",
        "colab_type": "text"
      },
      "source": [
        "<a href=\"https://colab.research.google.com/github/rouxinol/python_para_investimentos/blob/master/14_Integrando_Google_Colab_e_Google_Planilhas_(spreadsheet).ipynb\" target=\"_parent\"><img src=\"https://colab.research.google.com/assets/colab-badge.svg\" alt=\"Open In Colab\"/></a>"
      ]
    },
    {
      "cell_type": "markdown",
      "metadata": {
        "id": "_X9BhKltk_cb"
      },
      "source": [
        "###Ricos pelo Acaso\n",
        "* Link para o vídeo: https://youtu.be/YaCeqXpxWUk"
      ]
    },
    {
      "cell_type": "markdown",
      "metadata": {
        "id": "xdIDjdI1Uq5Y"
      },
      "source": [
        ">Instalando `gspread`"
      ]
    },
    {
      "cell_type": "code",
      "metadata": {
        "id": "8f78dBjnA3Y-",
        "colab": {
          "base_uri": "https://localhost:8080/"
        },
        "outputId": "6287c509-c09e-48d6-d48d-899668deeff9"
      },
      "source": [
        "!pip install gspread"
      ],
      "execution_count": 1,
      "outputs": [
        {
          "output_type": "stream",
          "text": [
            "Requirement already satisfied: gspread in /usr/local/lib/python3.6/dist-packages (3.0.1)\n",
            "Requirement already satisfied: requests>=2.2.1 in /usr/local/lib/python3.6/dist-packages (from gspread) (2.23.0)\n",
            "Requirement already satisfied: idna<3,>=2.5 in /usr/local/lib/python3.6/dist-packages (from requests>=2.2.1->gspread) (2.10)\n",
            "Requirement already satisfied: urllib3!=1.25.0,!=1.25.1,<1.26,>=1.21.1 in /usr/local/lib/python3.6/dist-packages (from requests>=2.2.1->gspread) (1.24.3)\n",
            "Requirement already satisfied: chardet<4,>=3.0.2 in /usr/local/lib/python3.6/dist-packages (from requests>=2.2.1->gspread) (3.0.4)\n",
            "Requirement already satisfied: certifi>=2017.4.17 in /usr/local/lib/python3.6/dist-packages (from requests>=2.2.1->gspread) (2020.12.5)\n"
          ],
          "name": "stdout"
        }
      ]
    },
    {
      "cell_type": "markdown",
      "metadata": {
        "id": "40vthssCUv1X"
      },
      "source": [
        ">Importando as Bibliotecas"
      ]
    },
    {
      "cell_type": "code",
      "metadata": {
        "id": "VgLSPFycA9SJ"
      },
      "source": [
        "from google.colab import auth\n",
        "import gspread\n",
        "from oauth2client.client import GoogleCredentials"
      ],
      "execution_count": 2,
      "outputs": []
    },
    {
      "cell_type": "markdown",
      "metadata": {
        "id": "R2du4Rvuxq4h"
      },
      "source": [
        ">Realizando a Autenticação"
      ]
    },
    {
      "cell_type": "code",
      "metadata": {
        "id": "bJGFIHvJxcfo"
      },
      "source": [
        "auth.authenticate_user()\n",
        "gc = gspread.authorize(GoogleCredentials.get_application_default())"
      ],
      "execution_count": 4,
      "outputs": []
    },
    {
      "cell_type": "markdown",
      "metadata": {
        "id": "SBpuhBm9U8cg"
      },
      "source": [
        ">Criando uma planilha vazia"
      ]
    },
    {
      "cell_type": "code",
      "metadata": {
        "id": "PpVsOifeBB0m",
        "colab": {
          "base_uri": "https://localhost:8080/"
        },
        "outputId": "4e022ba1-0c9b-4d1e-efb9-3eeed2945896"
      },
      "source": [
        "gc.create('Planilha01')"
      ],
      "execution_count": 5,
      "outputs": [
        {
          "output_type": "execute_result",
          "data": {
            "text/plain": [
              "<Spreadsheet 'Planilha01' id:1XuM5NAXNiU9eIUansm9meMhee6pWmT120ct-iga2xKI>"
            ]
          },
          "metadata": {
            "tags": []
          },
          "execution_count": 5
        }
      ]
    },
    {
      "cell_type": "markdown",
      "metadata": {
        "id": "PLGoqsjliO8P"
      },
      "source": [
        ">Abrindo uma Planilha"
      ]
    },
    {
      "cell_type": "code",
      "metadata": {
        "id": "WCxNYLZCiPBv"
      },
      "source": [
        "planilha = gc.open('Planilha01')"
      ],
      "execution_count": 6,
      "outputs": []
    },
    {
      "cell_type": "markdown",
      "metadata": {
        "id": "4qHcboXCVZ_j"
      },
      "source": [
        ">Adicionando uma nova Página\n",
        "\n"
      ]
    },
    {
      "cell_type": "code",
      "metadata": {
        "id": "gSLxsA5sVfuR",
        "colab": {
          "base_uri": "https://localhost:8080/"
        },
        "outputId": "ed00181b-2497-4b19-ed58-66b45108b601"
      },
      "source": [
        "planilha.add_worksheet('nova_pagina', 10, 5)"
      ],
      "execution_count": 7,
      "outputs": [
        {
          "output_type": "execute_result",
          "data": {
            "text/plain": [
              "<Worksheet 'nova_pagina' id:2102740165>"
            ]
          },
          "metadata": {
            "tags": []
          },
          "execution_count": 7
        }
      ]
    },
    {
      "cell_type": "markdown",
      "metadata": {
        "id": "UtRICcfNaMOq"
      },
      "source": [
        ">Selecionando uma Página"
      ]
    },
    {
      "cell_type": "code",
      "metadata": {
        "id": "dGhngLzmhJO1"
      },
      "source": [
        "pagina1 = planilha.get_worksheet(0)"
      ],
      "execution_count": 9,
      "outputs": []
    },
    {
      "cell_type": "markdown",
      "metadata": {
        "id": "hkWy8KOCi4py"
      },
      "source": [
        ">Apagando uma Página"
      ]
    },
    {
      "cell_type": "code",
      "metadata": {
        "id": "6HvqjzJghZZH",
        "colab": {
          "base_uri": "https://localhost:8080/"
        },
        "outputId": "dd8ff8b2-f7ce-4cd5-e0da-ef7d110c77b4"
      },
      "source": [
        "planilha.del_worksheet(pagina1)"
      ],
      "execution_count": 10,
      "outputs": [
        {
          "output_type": "execute_result",
          "data": {
            "text/plain": [
              "{'replies': [{}],\n",
              " 'spreadsheetId': '1XuM5NAXNiU9eIUansm9meMhee6pWmT120ct-iga2xKI'}"
            ]
          },
          "metadata": {
            "tags": []
          },
          "execution_count": 10
        }
      ]
    },
    {
      "cell_type": "markdown",
      "metadata": {
        "id": "4-B4RpqpaOu5"
      },
      "source": [
        ">Alterando os valores das células"
      ]
    },
    {
      "cell_type": "markdown",
      "metadata": {
        "id": "TkU-D5Zhkle4"
      },
      "source": [
        ">>1º passo: selecionar a página"
      ]
    },
    {
      "cell_type": "code",
      "metadata": {
        "id": "BMNOIhJKjIQL"
      },
      "source": [
        "nova_pagina = planilha.get_worksheet(0)"
      ],
      "execution_count": 11,
      "outputs": []
    },
    {
      "cell_type": "markdown",
      "metadata": {
        "id": "Xx7MhtXaktQp"
      },
      "source": [
        ">>`update_acell()`: pelo código da célula"
      ]
    },
    {
      "cell_type": "code",
      "metadata": {
        "id": "9w9LPmdRZtuQ",
        "colab": {
          "base_uri": "https://localhost:8080/"
        },
        "outputId": "978c3e09-4335-48ae-8559-20144bd48fd2"
      },
      "source": [
        "nova_pagina.update_acell('a1', 120)"
      ],
      "execution_count": 12,
      "outputs": [
        {
          "output_type": "execute_result",
          "data": {
            "text/plain": [
              "{'spreadsheetId': '1XuM5NAXNiU9eIUansm9meMhee6pWmT120ct-iga2xKI',\n",
              " 'updatedCells': 1,\n",
              " 'updatedColumns': 1,\n",
              " 'updatedRange': 'nova_pagina!A1',\n",
              " 'updatedRows': 1}"
            ]
          },
          "metadata": {
            "tags": []
          },
          "execution_count": 12
        }
      ]
    },
    {
      "cell_type": "markdown",
      "metadata": {
        "id": "Fr1mLethlDIF"
      },
      "source": [
        ">>`update_cell`: pelos números da linha e coluna"
      ]
    },
    {
      "cell_type": "code",
      "metadata": {
        "id": "1eU9gm3qZtya",
        "colab": {
          "base_uri": "https://localhost:8080/"
        },
        "outputId": "9e50e016-8e87-41b4-c5f5-cb3e9f15661d"
      },
      "source": [
        "nova_pagina.update_cell(2,2, 'qualquer texto')"
      ],
      "execution_count": 13,
      "outputs": [
        {
          "output_type": "execute_result",
          "data": {
            "text/plain": [
              "{'spreadsheetId': '1XuM5NAXNiU9eIUansm9meMhee6pWmT120ct-iga2xKI',\n",
              " 'updatedCells': 1,\n",
              " 'updatedColumns': 1,\n",
              " 'updatedRange': 'nova_pagina!B2',\n",
              " 'updatedRows': 1}"
            ]
          },
          "metadata": {
            "tags": []
          },
          "execution_count": 13
        }
      ]
    },
    {
      "cell_type": "markdown",
      "metadata": {
        "id": "tldCxUqWlQBc"
      },
      "source": [
        ">>`update_cells()`: por uma lista de valores"
      ]
    },
    {
      "cell_type": "code",
      "metadata": {
        "id": "ME3vC5O8bgR9",
        "colab": {
          "base_uri": "https://localhost:8080/"
        },
        "outputId": "d2bea687-00ed-4b7d-ed87-1267765af10e"
      },
      "source": [
        "lista_cel = nova_pagina.range('a1:b2')\n",
        "lista_cel"
      ],
      "execution_count": 14,
      "outputs": [
        {
          "output_type": "execute_result",
          "data": {
            "text/plain": [
              "[<Cell R1C1 '120'>,\n",
              " <Cell R1C2 ''>,\n",
              " <Cell R2C1 ''>,\n",
              " <Cell R2C2 'qualquer texto'>]"
            ]
          },
          "metadata": {
            "tags": []
          },
          "execution_count": 14
        }
      ]
    },
    {
      "cell_type": "code",
      "metadata": {
        "id": "fDF-oFOznejR",
        "colab": {
          "base_uri": "https://localhost:8080/"
        },
        "outputId": "7e8f4549-3934-48e5-d14f-b3db4bc486c3"
      },
      "source": [
        "valores = ['a','b','c','d']\n",
        "\n",
        "for i, valor in enumerate(valores):\n",
        "  lista_cel[i].value = valor\n",
        "\n",
        "lista_cel"
      ],
      "execution_count": 16,
      "outputs": [
        {
          "output_type": "execute_result",
          "data": {
            "text/plain": [
              "[<Cell R1C1 'a'>, <Cell R1C2 'b'>, <Cell R2C1 'c'>, <Cell R2C2 'd'>]"
            ]
          },
          "metadata": {
            "tags": []
          },
          "execution_count": 16
        }
      ]
    },
    {
      "cell_type": "code",
      "metadata": {
        "id": "litmy4_xnGKx",
        "colab": {
          "base_uri": "https://localhost:8080/"
        },
        "outputId": "de6a387b-1a91-4636-fbae-834718edf9f0"
      },
      "source": [
        "nova_pagina.update_cells(lista_cel)"
      ],
      "execution_count": 17,
      "outputs": [
        {
          "output_type": "execute_result",
          "data": {
            "text/plain": [
              "{'spreadsheetId': '1XuM5NAXNiU9eIUansm9meMhee6pWmT120ct-iga2xKI',\n",
              " 'updatedCells': 4,\n",
              " 'updatedColumns': 2,\n",
              " 'updatedRange': 'nova_pagina!A1:B2',\n",
              " 'updatedRows': 2}"
            ]
          },
          "metadata": {
            "tags": []
          },
          "execution_count": 17
        }
      ]
    },
    {
      "cell_type": "code",
      "metadata": {
        "id": "_CqDZr8LAj-3"
      },
      "source": [
        ""
      ],
      "execution_count": null,
      "outputs": []
    }
  ]
}